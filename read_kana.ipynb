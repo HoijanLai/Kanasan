{
 "cells": [
  {
   "cell_type": "code",
   "execution_count": 1,
   "metadata": {},
   "outputs": [],
   "source": [
    "import struct\n",
    "from PIL import Image\n",
    "import os\n",
    "import random\n",
    "from tqdm import tqdm"
   ]
  },
  {
   "cell_type": "markdown",
   "metadata": {},
   "source": [
    "## Read the data\n",
    "ref: http://etlcdb.db.aist.go.jp/?page_id=2461"
   ]
  },
  {
   "cell_type": "code",
   "execution_count": 2,
   "metadata": {},
   "outputs": [],
   "source": [
    "def read_record_ETL8B2(f):\n",
    "    s = f.read(512)\n",
    "    r = struct.unpack('>2H4s504s', s)\n",
    "    i1 = Image.frombytes('1', (64, 63), r[3], 'raw')\n",
    "    return r + (i1,)"
   ]
  },
  {
   "cell_type": "code",
   "execution_count": 3,
   "metadata": {},
   "outputs": [],
   "source": [
    "filename = './ETL8B2C1'"
   ]
  },
  {
   "cell_type": "markdown",
   "metadata": {},
   "source": [
    "## Convert JIS to unicode"
   ]
  },
  {
   "cell_type": "code",
   "execution_count": 4,
   "metadata": {},
   "outputs": [],
   "source": [
    "from requests import get\n",
    "\n",
    "my_url = \"http://unicode.org/Public/MAPPINGS/OBSOLETE/EASTASIA/JIS/JIS0208.TXT\"\n",
    "def download(url, file_name):\n",
    "    with open(file_name, \"wb\") as file:\n",
    "        response = get(my_url)\n",
    "        file.write(response.content)\n",
    "        \n",
    "if not os.path.isfile(os.path.basename(my_url)):\n",
    "    download(my_url, os.path.basename(my_url))"
   ]
  },
  {
   "cell_type": "code",
   "execution_count": 5,
   "metadata": {},
   "outputs": [],
   "source": [
    "# ref: http://nixeneko.hatenablog.com/entry/2017/02/21/012715\n",
    "\n",
    "shift_jis = []\n",
    "jisx0208 = []\n",
    "unicode = []\n",
    "with open(\"JIS0208.TXT\", \"r\") as f:\n",
    "    for line in f:\n",
    "        if line[0] == \"#\":\n",
    "            pass\n",
    "        else:\n",
    "            sjis, jisx, unic, _ = line.strip().split(\"\\t\")\n",
    "            shift_jis.append(int(sjis,16))\n",
    "            jisx0208.append( int(jisx,16))\n",
    "            unicode.append(  int(unic,16))\n",
    "\n",
    "def jis2uni(n):\n",
    "    return unicode[jisx0208.index(n)]\n",
    "\n",
    "def kan"
   ]
  },
  {
   "cell_type": "markdown",
   "metadata": {},
   "source": [
    "### Now convert them"
   ]
  },
  {
   "cell_type": "code",
   "execution_count": 8,
   "metadata": {},
   "outputs": [],
   "source": [
    "kanas = \"あいうえおかきくけこさしすせそたちつてとなにぬねのはひふへほまみむめもやゆよらりるれろわをん\""
   ]
  },
  {
   "cell_type": "code",
   "execution_count": 9,
   "metadata": {},
   "outputs": [],
   "source": [
    "wanted_jis_kanas = []\n",
    "for kana in kanas:\n",
    "    wanted_jis_kanas.append(ord(kana))"
   ]
  },
  {
   "cell_type": "code",
   "execution_count": 10,
   "metadata": {},
   "outputs": [
    {
     "ename": "NameError",
     "evalue": "name 'wanted_kanas' is not defined",
     "output_type": "error",
     "traceback": [
      "\u001b[0;31m---------------------------------------------------------------------------\u001b[0m",
      "\u001b[0;31mNameError\u001b[0m                                 Traceback (most recent call last)",
      "\u001b[0;32m<ipython-input-10-0198e9b857f5>\u001b[0m in \u001b[0;36m<module>\u001b[0;34m()\u001b[0m\n\u001b[0;32m----> 1\u001b[0;31m \u001b[0mprint\u001b[0m\u001b[0;34m(\u001b[0m\u001b[0mwanted_kanas\u001b[0m\u001b[0;34m)\u001b[0m\u001b[0;34m\u001b[0m\u001b[0m\n\u001b[0m",
      "\u001b[0;31mNameError\u001b[0m: name 'wanted_kanas' is not defined"
     ]
    }
   ],
   "source": [
    "print(wanted_kanas)"
   ]
  },
  {
   "cell_type": "markdown",
   "metadata": {},
   "source": [
    "## Some main stuff"
   ]
  },
  {
   "cell_type": "code",
   "execution_count": null,
   "metadata": {},
   "outputs": [],
   "source": [
    "def parse_sample(id_record):\n",
    "    with open(filename, 'rb') as f:\n",
    "        f.seek((id_record + 1) * 512)\n",
    "        r = read_record_ETL8B2(f)\n",
    "    return r"
   ]
  },
  {
   "cell_type": "code",
   "execution_count": 27,
   "metadata": {},
   "outputs": [],
   "source": [
    "def save_sample(r, folder):\n",
    "    iI = Image.eval(r[-1], lambda x: not x)\n",
    "    fn = os.path.join(folder, '{:d}_{:s}.png'.format(r[0], hex(jis2uni(r[1]))))\n",
    "    iI.save(fn, 'PNG')"
   ]
  },
  {
   "cell_type": "code",
   "execution_count": 32,
   "metadata": {},
   "outputs": [],
   "source": [
    "id_record = 0\n",
    "while True:\n",
    "    try:\n",
    "        r = parse_sample(id_record)\n",
    "        kana_uni = jis2uni(r[1])\n",
    "        if  kana_uni not in wanted_kanas:\n",
    "            id_record += 160\n",
    "            continue  \n",
    "        if id_record % 160 == 0:\n",
    "            os.system(\"mkdir %s\"%hex(jis2uni(r[1])))\n",
    "        save_sample(r, hex(jis2uni(r[1])))\n",
    "        id_record += 1\n",
    "    except:\n",
    "        break"
   ]
  }
 ],
 "metadata": {
  "kernelspec": {
   "display_name": "Python 3",
   "language": "python",
   "name": "python3"
  },
  "language_info": {
   "codemirror_mode": {
    "name": "ipython",
    "version": 3
   },
   "file_extension": ".py",
   "mimetype": "text/x-python",
   "name": "python",
   "nbconvert_exporter": "python",
   "pygments_lexer": "ipython3",
   "version": "3.6.4"
  }
 },
 "nbformat": 4,
 "nbformat_minor": 2
}
